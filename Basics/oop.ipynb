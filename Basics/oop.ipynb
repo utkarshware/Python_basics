{
 "cells": [
  {
   "cell_type": "code",
   "execution_count": null,
   "id": "3bd00a66",
   "metadata": {},
   "outputs": [
    {
     "name": "stdout",
     "output_type": "stream",
     "text": [
      "This is engine\n",
      "this is battery\n"
     ]
    }
   ],
   "source": [
    "class Car:\n",
    "    total_car = 0\n",
    "\n",
    "    def __init__(self, brand, model):\n",
    "        self.__brand = brand\n",
    "        self.__model = model\n",
    "        Car.total_car += 1\n",
    "\n",
    "    def get_brand(self):\n",
    "        return self.__brand + \" !\"\n",
    "\n",
    "    def full_name(self):\n",
    "        return f\"{self.__brand} {self.__model}\"\n",
    "    \n",
    "    def fuel_type(self):\n",
    "        return \"Petrol or Diesel\"\n",
    "    \n",
    "    @staticmethod\n",
    "    def general_description():\n",
    "        return \"Cars are means of transport\"\n",
    "    \n",
    "    @property\n",
    "    def model(self):\n",
    "        return self.__model\n",
    "    \n",
    "\n",
    "\n",
    "class ElectricCar(Car):\n",
    "    def __init__(self, brand, model, battery_size):\n",
    "        super().__init__(brand, model)\n",
    "        self.battery_size = battery_size\n",
    "\n",
    "    def fuel_type():\n",
    "        return \"Electric charge\"\n",
    "\n",
    "\n",
    "# my_tesla = ElectricCar(\"Tesla\", \"Model S\", \"85kWh\")\n",
    "\n",
    "# print(isinstance(my_tesla, Car))\n",
    "# print(isinstance(my_tesla, ElectricCar))\n",
    "\n",
    "# print(my_tesla.__brand)\n",
    "# print(my_tesla.fuel_type())\n",
    "\n",
    "# my_car = Car(\"Tata\", \"Safari\")\n",
    "# my_car.model = \"City\"\n",
    "# Car(\"Tata\", \"Nexon\")\n",
    "\n",
    "\n",
    "# print(my_car.general_description())\n",
    "# print(my_car.model)\n",
    "\n",
    "\n",
    "# my_car = Car(\"Toyota\", \"Corolla\")\n",
    "# print(my_car.brand)\n",
    "# print(my_car.model)\n",
    "# print(my_car.full_name())\n",
    "\n",
    "# my_new_car = Car(\"Tata\", \"Safari\")\n",
    "# print(my_new_car.model)\n",
    "\n",
    "\n",
    "\n",
    "class Battery:\n",
    "    def battery_info(self):\n",
    "        return \"this is battery\"\n",
    "\n",
    "class Engine:\n",
    "    def engine_info(self):\n",
    "        return \"This is engine\"\n",
    "\n",
    "class ElectricCarTwo(Battery, Engine, Car):\n",
    "    pass\n",
    "\n",
    "my_new_tesla = ElectricCarTwo(\"Tesla\", \"Model S\")\n",
    "print(my_new_tesla.engine_info())\n",
    "print(my_new_tesla.battery_info())"
   ]
  },
  {
   "cell_type": "code",
   "execution_count": null,
   "id": "c65bac5b",
   "metadata": {},
   "outputs": [],
   "source": []
  }
 ],
 "metadata": {
  "kernelspec": {
   "display_name": "Python 3",
   "language": "python",
   "name": "python3"
  },
  "language_info": {
   "codemirror_mode": {
    "name": "ipython",
    "version": 3
   },
   "file_extension": ".py",
   "mimetype": "text/x-python",
   "name": "python",
   "nbconvert_exporter": "python",
   "pygments_lexer": "ipython3",
   "version": "3.13.5"
  }
 },
 "nbformat": 4,
 "nbformat_minor": 5
}
