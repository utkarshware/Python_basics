{
 "cells": [
  {
   "cell_type": "code",
   "execution_count": 6,
   "id": "53694427",
   "metadata": {},
   "outputs": [],
   "source": [
    "def check_even_list(num_list):\n",
    "    for num in num_list:\n",
    "        if num % 2 == 0:\n",
    "            return True \n",
    "        else:\n",
    "            pass\n",
    "check_even_list([1,3,5 ])"
   ]
  },
  {
   "cell_type": "code",
   "execution_count": 10,
   "id": "db2a40a2",
   "metadata": {},
   "outputs": [
    {
     "data": {
      "text/plain": [
       "2"
      ]
     },
     "execution_count": 10,
     "metadata": {},
     "output_type": "execute_result"
    }
   ],
   "source": [
    "def player_guess():\n",
    "    guess = input(\"Pick a number: 0, 1 or 2: \")\n",
    "    while guess not in [\"0\", \"1\", \"2\"]:\n",
    "        guess = input(\"Invalid choice. Pick a number: 0, 1 or 2: \")\n",
    "    return int(guess)\n",
    "player_guess()\n",
    "def check_guess(mixedup_list, guess):\n",
    "    if mixedup_list[guess] == 'O':\n",
    "        print(\"Congratulations! You found the object!\")\n",
    "    else:\n",
    "        print(\"Sorry, try again!\")\n",
    "player_guess()\n"
   ]
  },
  {
   "cell_type": "code",
   "execution_count": null,
   "id": "ef568f70",
   "metadata": {},
   "outputs": [
    {
     "data": {
      "text/plain": [
       "35.0"
      ]
     },
     "execution_count": 9,
     "metadata": {},
     "output_type": "execute_result"
    }
   ],
   "source": [
    "def myfunc(a,b,c=0,d=0,e=0):\n",
    "    \n",
    "    return sum((a,b,c,d,e)) * 0.05  \n",
    "myfunc(40,60,100,200,300)"
   ]
  },
  {
   "cell_type": "code",
   "execution_count": 13,
   "id": "5ed512c7",
   "metadata": {},
   "outputs": [
    {
     "name": "stdout",
     "output_type": "stream",
     "text": [
      "(1, 2, 3, 4546, 5465)\n"
     ]
    }
   ],
   "source": [
    "def myfunc(*args):\n",
    "    print(args)\n",
    "myfunc(1,2,3,4546,5465)"
   ]
  },
  {
   "cell_type": "code",
   "execution_count": 17,
   "id": "83a10a31",
   "metadata": {},
   "outputs": [
    {
     "name": "stdout",
     "output_type": "stream",
     "text": [
      "{'fruits': 'apple', 'veggie': 'lettuce'}\n",
      "My favorite fruit is apple\n"
     ]
    }
   ],
   "source": [
    "def myfunc(**kwargs):\n",
    "    print(kwargs)\n",
    "    if \"fruits\" in kwargs:\n",
    "        print(\"My favorite fruit is {}\".format(kwargs[\"fruits\"]))\n",
    "    else:\n",
    "        print(\"I don't have a favorite fruit.\")\n",
    "myfunc(fruits=\"apple\", veggie=\"lettuce\")"
   ]
  },
  {
   "cell_type": "code",
   "execution_count": 20,
   "id": "0065ebce",
   "metadata": {},
   "outputs": [
    {
     "name": "stdout",
     "output_type": "stream",
     "text": [
      "Smallest numbers is 2\n"
     ]
    }
   ],
   "source": [
    "def lesser_of_two_evens(a,b):\n",
    "    if a%2==0 and b%2==0:\n",
    "        return min(a,b)\n",
    "    else:\n",
    "        return max(a,b)\n",
    "print(\"Smallest numbers is\",lesser_of_two_evens(2,4))"
   ]
  },
  {
   "cell_type": "code",
   "execution_count": 1,
   "id": "a56ea8df",
   "metadata": {},
   "outputs": [
    {
     "name": "stdout",
     "output_type": "stream",
     "text": [
      "True\n"
     ]
    }
   ],
   "source": [
    "def animal_cracker(text):\n",
    "    word_list = text.split()\n",
    "    if len(word_list) >= 2:\n",
    "        return word_list[0][0].lower() == word_list[1][0].lower()\n",
    "    else:\n",
    "        return False\n",
    "\n",
    "a = input(\"Enter two words: \")\n",
    "print(animal_cracker(a))\n"
   ]
  },
  {
   "cell_type": "code",
   "execution_count": 3,
   "id": "3e0472e6",
   "metadata": {},
   "outputs": [
    {
     "data": {
      "text/plain": [
       "True"
      ]
     },
     "execution_count": 3,
     "metadata": {},
     "output_type": "execute_result"
    }
   ],
   "source": [
    "def makes_twenty(n1,n2):\n",
    "    if n1 == 20 or n2 == 20 or (n1 + n2) == 20:\n",
    "        return True\n",
    "    else:\n",
    "        return False\n",
    "makes_twenty(20,10)"
   ]
  },
  {
   "cell_type": "code",
   "execution_count": 4,
   "id": "fe6328a1",
   "metadata": {},
   "outputs": [
    {
     "data": {
      "text/plain": [
       "'Macdonald'"
      ]
     },
     "execution_count": 4,
     "metadata": {},
     "output_type": "execute_result"
    }
   ],
   "source": [
    "def old_macdonald(name):\n",
    "    if len(name) > 3:\n",
    "        return name[:3].capitalize() + name[3:].lower()\n",
    "    else:\n",
    "        return \"Name is too short\"\n",
    "old_macdonald(\"macdonald\")"
   ]
  },
  {
   "cell_type": "code",
   "execution_count": 5,
   "id": "46f5fda5",
   "metadata": {},
   "outputs": [
    {
     "data": {
      "text/plain": [
       "'home am I'"
      ]
     },
     "execution_count": 5,
     "metadata": {},
     "output_type": "execute_result"
    }
   ],
   "source": [
    "def master_yoda(text):\n",
    "    words = text.split()\n",
    "    return ' '.join(reversed(words))\n",
    "master_yoda(\"I am home\")"
   ]
  },
  {
   "cell_type": "code",
   "execution_count": 7,
   "id": "6ff3aa9a",
   "metadata": {},
   "outputs": [
    {
     "data": {
      "text/plain": [
       "True"
      ]
     },
     "execution_count": 7,
     "metadata": {},
     "output_type": "execute_result"
    }
   ],
   "source": [
    "def almost_there(n):\n",
    "    return (abs(100 - n) <= 10) or (abs(200 - n) <= 10)\n",
    "almost_there(104)"
   ]
  },
  {
   "cell_type": "code",
   "execution_count": null,
   "id": "266c1c4f",
   "metadata": {},
   "outputs": [
    {
     "data": {
      "text/plain": [
       "False"
      ]
     },
     "execution_count": 11,
     "metadata": {},
     "output_type": "execute_result"
    }
   ],
   "source": [
    "def has_33(nums):\n",
    "    for i in range(len(nums)-1):\n",
    "        if nums[i:i+2] == [3, 3]   :\n",
    "            return True\n",
    "    return False\n",
    "has_33([1,3,3])\n",
    "has_33([1,3,1,3])"
   ]
  },
  {
   "cell_type": "code",
   "execution_count": 12,
   "id": "333ba05c",
   "metadata": {},
   "outputs": [
    {
     "data": {
      "text/plain": [
       "'HHHeeellllllooo'"
      ]
     },
     "execution_count": 12,
     "metadata": {},
     "output_type": "execute_result"
    }
   ],
   "source": [
    "def paper_doll(text):\n",
    "    new_string = \"\"\n",
    "    for char in text:\n",
    "        new_string += char * 3\n",
    "    return new_string\n",
    "paper_doll(\"Hello\")"
   ]
  },
  {
   "cell_type": "code",
   "execution_count": 15,
   "id": "605cfbb8",
   "metadata": {},
   "outputs": [
    {
     "data": {
      "text/plain": [
       "19"
      ]
     },
     "execution_count": 15,
     "metadata": {},
     "output_type": "execute_result"
    }
   ],
   "source": [
    "def blackjack(a,b,c):\n",
    "    if sum((a,b,c)) <= 21:\n",
    "        return sum((a,b,c))\n",
    "    elif 11 in (a,b,c) and sum((a,b,c)) <= 31:\n",
    "        return sum((a,b,c)) - 10\n",
    "    else:\n",
    "        return \"BUST\"\n",
    "blackjack(19, 20, 21)\n",
    "blackjack(9,9,11)"
   ]
  },
  {
   "cell_type": "code",
   "execution_count": 17,
   "id": "50240da5",
   "metadata": {},
   "outputs": [
    {
     "data": {
      "text/plain": [
       "9"
      ]
     },
     "execution_count": 17,
     "metadata": {},
     "output_type": "execute_result"
    }
   ],
   "source": [
    "def summer_69(arr):\n",
    "    total = 0\n",
    "    add = True\n",
    "    for num in arr:\n",
    "        if num == 6:\n",
    "            add = False\n",
    "        if add:\n",
    "            total += num\n",
    "        if num == 9:\n",
    "            add = True\n",
    "    return total\n",
    "summer_69([1, 3, 5])\n",
    "summer_69([4, 5, 6, 7, 8, 9])"
   ]
  },
  {
   "cell_type": "code",
   "execution_count": 20,
   "id": "f0c0d89c",
   "metadata": {},
   "outputs": [
    {
     "data": {
      "text/plain": [
       "False"
      ]
     },
     "execution_count": 20,
     "metadata": {},
     "output_type": "execute_result"
    }
   ],
   "source": [
    "def spy_game(nums):\n",
    "    code = [0,0,7,'x']\n",
    "    for num in nums:\n",
    "        if num == code[0]:\n",
    "            code.pop(0)\n",
    "    return len(code) == 1\n",
    "spy_game([1,2,4,0,0,7,5])\n",
    "spy_game([1,0,2,4,0,5,7])\n",
    "spy_game([1,7,2,0,4,5,0])"
   ]
  },
  {
   "cell_type": "code",
   "execution_count": 21,
   "id": "571c94fb",
   "metadata": {},
   "outputs": [
    {
     "data": {
      "text/plain": [
       "25"
      ]
     },
     "execution_count": 21,
     "metadata": {},
     "output_type": "execute_result"
    }
   ],
   "source": [
    "def count_primes(num):\n",
    "    if num<2:\n",
    "        return 0 \n",
    "    primes = 0\n",
    "    for i in range(2,num+1):\n",
    "        for j in range(2,i):\n",
    "            if i%j == 0:    \n",
    "                break\n",
    "        else:\n",
    "            primes += 1\n",
    "    return primes\n",
    "count_primes(100)"
   ]
  },
  {
   "cell_type": "code",
   "execution_count": 23,
   "id": "f4b742f9",
   "metadata": {},
   "outputs": [
    {
     "name": "stdout",
     "output_type": "stream",
     "text": [
      "[1, 4, 9, 16, 25]\n"
     ]
    }
   ],
   "source": [
    "def square(num):\n",
    "    return num**2\n",
    "my_num = [1,2,3,4,5]\n",
    "squared = list(map(square, my_num)) \n",
    "print(squared)\n"
   ]
  },
  {
   "cell_type": "code",
   "execution_count": 26,
   "id": "cd02490f",
   "metadata": {},
   "outputs": [
    {
     "name": "stdout",
     "output_type": "stream",
     "text": [
      "['A', 'B', 'C']\n"
     ]
    }
   ],
   "source": [
    "def splicer(mystring):\n",
    "    if len(mystring) % 2 == 0:\n",
    "        return 'EVEN'   \n",
    "    else :\n",
    "        return mystring[0]\n",
    "splicer(\"Hello\")\n",
    "names = [\"Alice\", \"Bob\", \"Charlie\"] \n",
    "print(list(map(splicer, names)))"
   ]
  },
  {
   "cell_type": "code",
   "execution_count": 32,
   "id": "3af07754",
   "metadata": {},
   "outputs": [
    {
     "name": "stdout",
     "output_type": "stream",
     "text": [
      "[2, 4, 6]\n"
     ]
    }
   ],
   "source": [
    "def check_even_odd(num):\n",
    "    return num % 2 == 0 \n",
    "my_nums = [1,2,3,4,5,6]\n",
    "filtered = filter(check_even_odd, my_nums)\n",
    "#print(list(map(check_even_odd, my_nums)))\n",
    "print(list(filtered))"
   ]
  },
  {
   "cell_type": "code",
   "execution_count": 34,
   "id": "f13849c5",
   "metadata": {},
   "outputs": [
    {
     "data": {
      "text/plain": [
       "6084"
      ]
     },
     "execution_count": 34,
     "metadata": {},
     "output_type": "execute_result"
    }
   ],
   "source": [
    "def square(num): return num**2\n",
    "square(78)"
   ]
  },
  {
   "cell_type": "code",
   "execution_count": 35,
   "id": "38fd9467",
   "metadata": {},
   "outputs": [
    {
     "data": {
      "text/plain": [
       "49"
      ]
     },
     "execution_count": 35,
     "metadata": {},
     "output_type": "execute_result"
    }
   ],
   "source": [
    "square = lambda num: num**2\n",
    "square(7)"
   ]
  },
  {
   "cell_type": "code",
   "execution_count": 38,
   "id": "206f8c5f",
   "metadata": {},
   "outputs": [
    {
     "name": "stdout",
     "output_type": "stream",
     "text": [
      "Help on built-in function len in module builtins:\n",
      "\n",
      "len(obj, /)\n",
      "    Return the number of items in a container.\n",
      "\n"
     ]
    }
   ],
   "source": [
    "help(len)"
   ]
  },
  {
   "cell_type": "code",
   "execution_count": 40,
   "id": "da78c4e5",
   "metadata": {},
   "outputs": [
    {
     "name": "stdout",
     "output_type": "stream",
     "text": [
      "x is 50\n",
      "I just locally changed x to 200\n"
     ]
    }
   ],
   "source": [
    "\n",
    "x = 50\n",
    "def func(x):\n",
    "    print(f\"x is {x}\")\n",
    "    x = 200 \n",
    "    print(f\"I just locally changed x to {x}\")\n",
    "func(x)"
   ]
  },
  {
   "cell_type": "code",
   "execution_count": 42,
   "id": "fe38fe93",
   "metadata": {},
   "outputs": [
    {
     "data": {
      "text/plain": [
       "125"
      ]
     },
     "execution_count": 42,
     "metadata": {},
     "output_type": "execute_result"
    }
   ],
   "source": [
    "def vol(x):\n",
    "    return x **3\n",
    "vol(5)"
   ]
  },
  {
   "cell_type": "code",
   "execution_count": 44,
   "id": "6a53b373",
   "metadata": {},
   "outputs": [
    {
     "data": {
      "text/plain": [
       "False"
      ]
     },
     "execution_count": 44,
     "metadata": {},
     "output_type": "execute_result"
    }
   ],
   "source": [
    "def palindrome(s):\n",
    "    cleaned = ''.join(c.lower() for c in s if c.isalnum())\n",
    "    return cleaned == cleaned[::-1]\n",
    "palindrome(\"naman\")\n",
    "palindrome(\"Utkarsh\")"
   ]
  },
  {
   "cell_type": "code",
   "execution_count": 1,
   "id": "29f9d383",
   "metadata": {},
   "outputs": [
    {
     "data": {
      "text/plain": [
       "False"
      ]
     },
     "execution_count": 1,
     "metadata": {},
     "output_type": "execute_result"
    }
   ],
   "source": [
    "5 in range (0,5)"
   ]
  },
  {
   "cell_type": "code",
   "execution_count": 4,
   "id": "9ecf97c1",
   "metadata": {},
   "outputs": [
    {
     "name": "stdout",
     "output_type": "stream",
     "text": [
      "3 is in the range\n"
     ]
    }
   ],
   "source": [
    "def ran_check(num,low,high):\n",
    "    if num in range(low,high):\n",
    "        print(f\"{num} is in the range\")\n",
    "    else:\n",
    "        print(f\"{num} is not in the range\")\n",
    "ran_check(3,1,10)\n",
    "\n"
   ]
  },
  {
   "cell_type": "code",
   "execution_count": 5,
   "id": "933fc904",
   "metadata": {},
   "outputs": [],
   "source": [
    "def up_low(s):\n",
    "    upper = 0\n",
    "    lower = 0\n",
    "    for c in s:\n",
    "        if c.isupper():\n",
    "            upper += 1\n",
    "        elif c.islower():\n",
    "            lower += 1\n",
    "    print(f\"Uppercase letters: {upper}\")\n",
    "    print(f\"Lowercase letters: {lower}\")\n",
    "    return  \n"
   ]
  },
  {
   "cell_type": "code",
   "execution_count": 6,
   "id": "a978eebc",
   "metadata": {},
   "outputs": [
    {
     "name": "stdout",
     "output_type": "stream",
     "text": [
      "[1, 2, 3, 4, 5]\n"
     ]
    }
   ],
   "source": [
    "def unique_list(lst):\n",
    "    seen_numbers = []\n",
    "    for i in lst:\n",
    "        if i not in seen_numbers:\n",
    "            seen_numbers.append(i)\n",
    "    return seen_numbers\n",
    "unique = unique_list([1, 2, 2, 3, 4, 4, 5])\n",
    "print(unique)\n"
   ]
  },
  {
   "cell_type": "code",
   "execution_count": 7,
   "id": "f414f51d",
   "metadata": {},
   "outputs": [
    {
     "data": {
      "text/plain": [
       "-24"
      ]
     },
     "execution_count": 7,
     "metadata": {},
     "output_type": "execute_result"
    }
   ],
   "source": [
    "def multiply(numbers):\n",
    "    total = 1\n",
    "    for n in numbers:\n",
    "        total *= n\n",
    "    return total\n",
    "multiply([1,2,3,-4])"
   ]
  },
  {
   "cell_type": "code",
   "execution_count": 8,
   "id": "51bacf83",
   "metadata": {},
   "outputs": [
    {
     "data": {
      "text/plain": [
       "True"
      ]
     },
     "execution_count": 8,
     "metadata": {},
     "output_type": "execute_result"
    }
   ],
   "source": [
    "def palindrome(s):\n",
    "    s = s.replace(' ','')\n",
    "    return s == s[::-1]\n",
    "palindrome(\"naman\")"
   ]
  },
  {
   "cell_type": "code",
   "execution_count": 9,
   "id": "c98bd510",
   "metadata": {},
   "outputs": [
    {
     "data": {
      "text/plain": [
       "True"
      ]
     },
     "execution_count": 9,
     "metadata": {},
     "output_type": "execute_result"
    }
   ],
   "source": [
    "import string \n",
    "def ispangram(str1, alphabet=string.ascii_lowercase):\n",
    "    alphas = set(alphabet)\n",
    "    str1 = str1.replace(\" \",\"\")\n",
    "    str1 = str1.lower()\n",
    "    str1 = set(str1)\n",
    "    return str1 == alphas\n",
    "ispangram(\"The quick brown fox jumps over the lazy dog\")"
   ]
  },
  {
   "cell_type": "code",
   "execution_count": null,
   "id": "d3c82d23",
   "metadata": {},
   "outputs": [],
   "source": []
  }
 ],
 "metadata": {
  "kernelspec": {
   "display_name": "Python 3",
   "language": "python",
   "name": "python3"
  },
  "language_info": {
   "codemirror_mode": {
    "name": "ipython",
    "version": 3
   },
   "file_extension": ".py",
   "mimetype": "text/x-python",
   "name": "python",
   "nbconvert_exporter": "python",
   "pygments_lexer": "ipython3",
   "version": "3.13.5"
  }
 },
 "nbformat": 4,
 "nbformat_minor": 5
}
